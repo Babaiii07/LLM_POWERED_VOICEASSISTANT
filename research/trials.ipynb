{
 "cells": [
  {
   "cell_type": "code",
   "execution_count": 11,
   "metadata": {},
   "outputs": [
    {
     "data": {
      "text/plain": [
       "True"
      ]
     },
     "execution_count": 11,
     "metadata": {},
     "output_type": "execute_result"
    }
   ],
   "source": [
    "from dotenv import load_dotenv\n",
    "load_dotenv()"
   ]
  },
  {
   "cell_type": "code",
   "execution_count": 12,
   "metadata": {},
   "outputs": [],
   "source": [
    "import os\n",
    "api_key = os.environ.get(\"GOOGLE_API_KEY\")"
   ]
  },
  {
   "cell_type": "code",
   "execution_count": 13,
   "metadata": {},
   "outputs": [],
   "source": [
    "import google.generativeai as genai\n",
    "genai.configure(api_key = api_key)"
   ]
  },
  {
   "cell_type": "code",
   "execution_count": 14,
   "metadata": {},
   "outputs": [],
   "source": [
    "model = genai.GenerativeModel(model_name=\"models/gemini-pro\")"
   ]
  },
  {
   "cell_type": "code",
   "execution_count": 15,
   "metadata": {},
   "outputs": [],
   "source": [
    "response = model.generate_content(\"what is machine learning?\")"
   ]
  },
  {
   "cell_type": "code",
   "execution_count": 16,
   "metadata": {},
   "outputs": [
    {
     "data": {
      "text/plain": [
       "\"Machine learning (ML) is a type of artificial intelligence (AI) that allows software applications to become more accurate in predicting outcomes without being explicitly programmed to do so. Machine learning algorithms use historical data as input to predict new output values. The goal of machine learning is to develop algorithms that can act without human intervention and improve their performance over time.\\n\\n**Types of Machine Learning**\\n\\nThere are three main types of machine learning:\\n\\n* **Supervised learning:** The model is trained on a dataset that has been labeled with the correct output values. For example, a supervised learning algorithm could be used to train a spam filter by feeding it a dataset of emails that have been labeled as spam or not spam.\\n* **Unsupervised learning:** The model is trained on a dataset that has not been labeled. The algorithm must then find patterns and structure in the data without any human guidance. For example, an unsupervised learning algorithm could be used to cluster customers into different segments based on their purchase history.\\n* **Reinforcement learning:** The model learns by interacting with its environment and receiving feedback. The model's goal is to maximize its reward while minimizing its punishment. For example, a reinforcement learning algorithm could be used to train a robot to walk by giving it rewards when it takes steps in the right direction.\\n\\n**Benefits of Machine Learning**\\n\\nMachine learning offers a number of benefits, including:\\n\\n* **Increased accuracy:** Machine learning algorithms can often achieve higher accuracy than traditional programming methods. This is because they are able to learn from data and adapt to changing conditions.\\n* **Reduced costs:** Machine learning algorithms can automate tasks that would otherwise require manual labor. This can lead to significant cost savings.\\n* **Improved customer experience:** Machine learning algorithms can be used to personalize customer experiences and provide more relevant recommendations. This can lead to increased customer satisfaction and loyalty.\\n\\n**Applications of Machine Learning**\\n\\nMachine learning is used in a wide variety of applications, including:\\n\\n* **Predictive analytics:** Machine learning algorithms can be used to predict future events, such as customer churn, fraud, and weather conditions.\\n* **Natural language processing:** Machine learning algorithms can be used to understand and generate human language. This is used in applications such as machine translation, spam filtering, and customer service chatbots.\\n* **Image recognition:** Machine learning algorithms can be used to recognize objects in images. This is used in applications such as facial recognition, medical diagnosis, and self-driving cars.\\n* **Speech recognition:** Machine learning algorithms can be used to recognize spoken words. This is used in applications such as voice commands, dictation, and customer service chatbots.\\n\\nMachine learning is a powerful tool that can be used to solve a wide variety of problems. As the amount of data available continues to grow, machine learning is becoming increasingly important.\""
      ]
     },
     "execution_count": 16,
     "metadata": {},
     "output_type": "execute_result"
    }
   ],
   "source": [
    "response.text"
   ]
  },
  {
   "cell_type": "code",
   "execution_count": 17,
   "metadata": {},
   "outputs": [],
   "source": [
    "chat = model.start_chat(history=[])"
   ]
  },
  {
   "cell_type": "code",
   "execution_count": 18,
   "metadata": {},
   "outputs": [],
   "source": [
    "response = chat.send_message(\"what is machine learning?\")"
   ]
  },
  {
   "cell_type": "code",
   "execution_count": 19,
   "metadata": {},
   "outputs": [
    {
     "data": {
      "text/plain": [
       "'Machine learning is a subfield of artificial intelligence (AI) that gives computers the ability to learn without being explicitly programmed. Machine learning algorithms use historical data as input to predict new output values. The goal of machine learning is to create algorithms that can automatically improve their performance over time as they are exposed to more data.\\n\\nMachine learning algorithms are typically trained on a dataset of labeled data. The labeled data consists of input data and the corresponding output values. The algorithm learns by finding patterns in the input data that are associated with the output values. Once the algorithm is trained, it can be used to predict the output values for new input data.\\n\\nThere are many different types of machine learning algorithms, each with its own strengths and weaknesses. Some of the most common types of machine learning algorithms include:\\n\\n* **Supervised learning:** Supervised learning algorithms learn from labeled data. The labeled data consists of input data and the corresponding output values. The algorithm learns by finding patterns in the input data that are associated with the output values.\\n* **Unsupervised learning:** Unsupervised learning algorithms learn from unlabeled data. The unlabeled data consists of input data without any corresponding output values. The algorithm learns by finding patterns in the input data that are not associated with any known output values.\\n* **Semi-supervised learning:** Semi-supervised learning algorithms learn from a combination of labeled and unlabeled data. The labeled data helps the algorithm to learn the patterns in the input data that are associated with the output values. The unlabeled data helps the algorithm to learn the patterns in the input data that are not associated with any known output values.\\n\\nMachine learning is used in a wide variety of applications, including:\\n\\n* **Predictive analytics:** Machine learning algorithms can be used to predict future events based on historical data. For example, machine learning algorithms can be used to predict customer churn, fraud, and disease outbreaks.\\n* **Image recognition:** Machine learning algorithms can be used to recognize objects in images. For example, machine learning algorithms can be used to identify faces, objects, and animals in images.\\n* **Natural language processing:** Machine learning algorithms can be used to understand and generate human language. For example, machine learning algorithms can be used to translate languages, summarize text, and answer questions.\\n\\nMachine learning is a rapidly growing field with the potential to revolutionize many industries. As machine learning algorithms become more sophisticated, they will be able to solve more complex problems and have a greater impact on our lives.'"
      ]
     },
     "execution_count": 19,
     "metadata": {},
     "output_type": "execute_result"
    }
   ],
   "source": [
    "response.text"
   ]
  },
  {
   "cell_type": "code",
   "execution_count": null,
   "metadata": {},
   "outputs": [],
   "source": []
  }
 ],
 "metadata": {
  "kernelspec": {
   "display_name": "Python 3",
   "language": "python",
   "name": "python3"
  },
  "language_info": {
   "codemirror_mode": {
    "name": "ipython",
    "version": 3
   },
   "file_extension": ".py",
   "mimetype": "text/x-python",
   "name": "python",
   "nbconvert_exporter": "python",
   "pygments_lexer": "ipython3",
   "version": "3.10.0"
  }
 },
 "nbformat": 4,
 "nbformat_minor": 2
}
